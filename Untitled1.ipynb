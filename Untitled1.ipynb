{
 "cells": [
  {
   "cell_type": "markdown",
   "id": "9f0e9e91",
   "metadata": {},
   "source": [
    "# Implement K-Means clustering/ hierarchical clustering on sales_data_sample.csv dataset. Determine the number of clusters using the elbow method."
   ]
  },
  {
   "cell_type": "code",
   "execution_count": null,
   "id": "bef55cff",
   "metadata": {},
   "outputs": [],
   "source": [
    "import pandas as pd\n",
    "import numpy as np\n",
    "import seaborn as sns\n",
    "import matplotlib.pyplot as plt\n",
    "#Importing the required libraries."
   ]
  },
  {
   "cell_type": "code",
   "execution_count": null,
   "id": "ec30055c",
   "metadata": {},
   "outputs": [],
   "source": [
    "from sklearn.cluster import KMeans, k_means #For clustering\n",
    "from sklearn.decomposition import PCA #Linear Dimensionality reduction."
   ]
  },
  {
   "cell_type": "code",
   "execution_count": null,
   "id": "d10d9c79",
   "metadata": {},
   "outputs": [],
   "source": [
    "df = pd.read_csv(\"sales_data_sample.csv\") #Loading the dataset."
   ]
  },
  {
   "cell_type": "markdown",
   "id": "1ac686dd",
   "metadata": {},
   "source": [
    "## Preprocessing "
   ]
  },
  {
   "cell_type": "code",
   "execution_count": null,
   "id": "55b84173",
   "metadata": {},
   "outputs": [],
   "source": [
    "df.head()"
   ]
  },
  {
   "cell_type": "code",
   "execution_count": null,
   "id": "b3a3ab08",
   "metadata": {},
   "outputs": [],
   "source": [
    "df.shape "
   ]
  },
  {
   "cell_type": "code",
   "execution_count": null,
   "id": "6277f051",
   "metadata": {
    "scrolled": true
   },
   "outputs": [],
   "source": [
    "df.describe()"
   ]
  },
  {
   "cell_type": "code",
   "execution_count": null,
   "id": "8a4a5889",
   "metadata": {},
   "outputs": [],
   "source": [
    "df.info()"
   ]
  },
  {
   "cell_type": "code",
   "execution_count": null,
   "id": "64870c4e",
   "metadata": {},
   "outputs": [],
   "source": [
    "df.isnull().sum()"
   ]
  },
  {
   "cell_type": "code",
   "execution_count": null,
   "id": "a300d986",
   "metadata": {},
   "outputs": [],
   "source": [
    "df.dtypes"
   ]
  },
  {
   "cell_type": "code",
   "execution_count": null,
   "id": "e528074c",
   "metadata": {},
   "outputs": [],
   "source": [
    "df_drop  = ['ADDRESSLINE1', 'ADDRESSLINE2', 'STATUS','POSTALCODE', 'CITY', 'TERRITORY', 'PHONE', 'STATE', 'CONTACTFIRSTNAME', 'CONTACTLASTNAME', 'CUSTOMERNAME', 'ORDERNUMBER']\n",
    "df = df.drop(df_drop, axis=1) #Dropping the categorical uneccessary columns along with columns having null values. Can't fill the null values are there are alot of null values."
   ]
  },
  {
   "cell_type": "code",
   "execution_count": null,
   "id": "706186e8",
   "metadata": {},
   "outputs": [],
   "source": [
    "df.isnull().sum()"
   ]
  },
  {
   "cell_type": "code",
   "execution_count": null,
   "id": "04f7008d",
   "metadata": {},
   "outputs": [],
   "source": [
    "df.dtypes"
   ]
  },
  {
   "cell_type": "code",
   "execution_count": null,
   "id": "43df8ebf",
   "metadata": {},
   "outputs": [],
   "source": [
    "# Checking the categorical columns."
   ]
  },
  {
   "cell_type": "code",
   "execution_count": null,
   "id": "52ce93af",
   "metadata": {},
   "outputs": [],
   "source": [
    "df['COUNTRY'].unique()"
   ]
  },
  {
   "cell_type": "code",
   "execution_count": null,
   "id": "b42c0cab",
   "metadata": {
    "scrolled": true
   },
   "outputs": [],
   "source": [
    "df['PRODUCTLINE'].unique()"
   ]
  },
  {
   "cell_type": "code",
   "execution_count": null,
   "id": "ec0bff39",
   "metadata": {},
   "outputs": [],
   "source": [
    "df['DEALSIZE'].unique()"
   ]
  },
  {
   "cell_type": "code",
   "execution_count": null,
   "id": "e9213772",
   "metadata": {},
   "outputs": [],
   "source": [
    "productline = pd.get_dummies(df['PRODUCTLINE']) #Converting the categorical columns. \n",
    "Dealsize = pd.get_dummies(df['DEALSIZE'])"
   ]
  },
  {
   "cell_type": "code",
   "execution_count": null,
   "id": "9c544217",
   "metadata": {},
   "outputs": [],
   "source": [
    "df = pd.concat([df,productline,Dealsize], axis = 1)"
   ]
  },
  {
   "cell_type": "code",
   "execution_count": null,
   "id": "97607aa7",
   "metadata": {},
   "outputs": [],
   "source": [
    "df_drop  = ['COUNTRY','PRODUCTLINE','DEALSIZE'] #Dropping Country too as there are alot of countries. \n",
    "df = df.drop(df_drop, axis=1)"
   ]
  },
  {
   "cell_type": "code",
   "execution_count": null,
   "id": "4c4d7661",
   "metadata": {},
   "outputs": [],
   "source": [
    "df['PRODUCTCODE'] = pd.Categorical(df['PRODUCTCODE']).codes #Converting the datatype."
   ]
  },
  {
   "cell_type": "code",
   "execution_count": null,
   "id": "f02982d2",
   "metadata": {},
   "outputs": [],
   "source": [
    "df.drop('ORDERDATE', axis=1, inplace=True) #Dropping the Orderdate as Month is already included."
   ]
  },
  {
   "cell_type": "code",
   "execution_count": null,
   "id": "2d45026a",
   "metadata": {},
   "outputs": [],
   "source": [
    "df.dtypes #All the datatypes are converted into numeric"
   ]
  },
  {
   "cell_type": "markdown",
   "id": "82de4523",
   "metadata": {},
   "source": [
    "## Plotting the Elbow Plot to determine the number of clusters. "
   ]
  },
  {
   "cell_type": "code",
   "execution_count": null,
   "id": "850e9f13",
   "metadata": {},
   "outputs": [],
   "source": [
    "distortions = [] # Within Cluster Sum of Squares from the centroid\n",
    "K = range(1,10)\n",
    "for k in K:\n",
    "    kmeanModel = KMeans(n_clusters=k)\n",
    "    kmeanModel.fit(df)\n",
    "    distortions.append(kmeanModel.inertia_)   #Appeding the intertia to the Distortions "
   ]
  },
  {
   "cell_type": "code",
   "execution_count": null,
   "id": "323c454d",
   "metadata": {},
   "outputs": [],
   "source": [
    "plt.figure(figsize=(16,8))\n",
    "plt.plot(K, distortions, 'bx-')\n",
    "plt.xlabel('k')\n",
    "plt.ylabel('Distortion')\n",
    "plt.title('The Elbow Method showing the optimal k')\n",
    "plt.show()"
   ]
  },
  {
   "cell_type": "markdown",
   "id": "c9ad3a2d",
   "metadata": {},
   "source": [
    "## As the number of k increases Inertia decreases. \n",
    "## Observations: A Elbow can be observed at 3 and after that the curve decreases gradually. "
   ]
  },
  {
   "cell_type": "code",
   "execution_count": null,
   "id": "1b61b519",
   "metadata": {},
   "outputs": [],
   "source": [
    "X_train = df.values #Returns a numpy array."
   ]
  },
  {
   "cell_type": "code",
   "execution_count": null,
   "id": "c94cb45f",
   "metadata": {},
   "outputs": [],
   "source": [
    "X_train.shape"
   ]
  },
  {
   "cell_type": "code",
   "execution_count": null,
   "id": "c1b66585",
   "metadata": {},
   "outputs": [],
   "source": [
    "model = KMeans(n_clusters=3,random_state=2) #Number of cluster = 3\n",
    "model = model.fit(X_train) #Fitting the values to create a model.\n",
    "predictions = model.predict(X_train) #Predicting the cluster values (0,1,or 2)"
   ]
  },
  {
   "cell_type": "code",
   "execution_count": null,
   "id": "0740f489",
   "metadata": {},
   "outputs": [],
   "source": [
    "unique,counts = np.unique(predictions,return_counts=True)"
   ]
  },
  {
   "cell_type": "code",
   "execution_count": null,
   "id": "a3b00ded",
   "metadata": {},
   "outputs": [],
   "source": [
    "counts = counts.reshape(1,3)"
   ]
  },
  {
   "cell_type": "code",
   "execution_count": null,
   "id": "98680f65",
   "metadata": {},
   "outputs": [],
   "source": [
    "counts_df = pd.DataFrame(counts,columns=['Cluster1','Cluster2','Cluster3'])"
   ]
  },
  {
   "cell_type": "code",
   "execution_count": null,
   "id": "6550f668",
   "metadata": {},
   "outputs": [],
   "source": [
    "counts_df.head()"
   ]
  },
  {
   "cell_type": "markdown",
   "id": "8e04e87f",
   "metadata": {},
   "source": [
    "## Visualization "
   ]
  },
  {
   "cell_type": "code",
   "execution_count": null,
   "id": "670a0f24",
   "metadata": {},
   "outputs": [],
   "source": [
    "pca = PCA(n_components=2) #Converting all the features into 2 columns to make it easy to visualize using Principal COmponent Analysis."
   ]
  },
  {
   "cell_type": "code",
   "execution_count": null,
   "id": "9f298beb",
   "metadata": {},
   "outputs": [],
   "source": [
    "reduced_X = pd.DataFrame(pca.fit_transform(X_train),columns=['PCA1','PCA2']) #Creating a DataFrame."
   ]
  },
  {
   "cell_type": "code",
   "execution_count": null,
   "id": "f526a136",
   "metadata": {},
   "outputs": [],
   "source": [
    "reduced_X.head()"
   ]
  },
  {
   "cell_type": "code",
   "execution_count": null,
   "id": "d49ec734",
   "metadata": {},
   "outputs": [],
   "source": [
    "#Plotting the normal Scatter Plot\n",
    "plt.figure(figsize=(14,10))\n",
    "plt.scatter(reduced_X['PCA1'],reduced_X['PCA2'])"
   ]
  },
  {
   "cell_type": "code",
   "execution_count": null,
   "id": "a1babe44",
   "metadata": {},
   "outputs": [],
   "source": [
    "model.cluster_centers_ #Finding the centriods. (3 Centriods in total. Each Array contains a centroids for particular feature )"
   ]
  },
  {
   "cell_type": "code",
   "execution_count": null,
   "id": "b5263150",
   "metadata": {},
   "outputs": [],
   "source": [
    "reduced_centers = pca.transform(model.cluster_centers_) #Transforming the centroids into 3 in x and y coordinates"
   ]
  },
  {
   "cell_type": "code",
   "execution_count": null,
   "id": "39f26484",
   "metadata": {},
   "outputs": [],
   "source": [
    "reduced_centers"
   ]
  },
  {
   "cell_type": "code",
   "execution_count": null,
   "id": "05c306fe",
   "metadata": {},
   "outputs": [],
   "source": [
    "plt.figure(figsize=(14,10))\n",
    "plt.scatter(reduced_X['PCA1'],reduced_X['PCA2'])\n",
    "plt.scatter(reduced_centers[:,0],reduced_centers[:,1],color='black',marker='x',s=300) #Plotting the centriods"
   ]
  },
  {
   "cell_type": "code",
   "execution_count": null,
   "id": "0e5583a0",
   "metadata": {},
   "outputs": [],
   "source": [
    "reduced_X['Clusters'] = predictions #Adding the Clusters to the reduced dataframe."
   ]
  },
  {
   "cell_type": "code",
   "execution_count": null,
   "id": "e60df3dd",
   "metadata": {},
   "outputs": [],
   "source": [
    "reduced_X.head()"
   ]
  },
  {
   "cell_type": "code",
   "execution_count": null,
   "id": "6133cf11",
   "metadata": {},
   "outputs": [],
   "source": [
    "#Plotting the clusters \n",
    "plt.figure(figsize=(14,10))\n",
    "#                     taking the cluster number and first column           taking the same cluster number and second column      Assigning the color\n",
    "plt.scatter(reduced_X[reduced_X['Clusters'] == 0].loc[:,'PCA1'],reduced_X[reduced_X['Clusters'] == 0].loc[:,'PCA2'],color='slateblue')\n",
    "plt.scatter(reduced_X[reduced_X['Clusters'] == 1].loc[:,'PCA1'],reduced_X[reduced_X['Clusters'] == 1].loc[:,'PCA2'],color='springgreen')\n",
    "plt.scatter(reduced_X[reduced_X['Clusters'] == 2].loc[:,'PCA1'],reduced_X[reduced_X['Clusters'] == 2].loc[:,'PCA2'],color='indigo')\n",
    "\n",
    "\n",
    "plt.scatter(reduced_centers[:,0],reduced_centers[:,1],color='black',marker='x',s=300)"
   ]
  }
 ],
 "metadata": {
  "kernelspec": {
   "display_name": "Python 3",
   "language": "python",
   "name": "python3"
  },
  "language_info": {
   "codemirror_mode": {
    "name": "ipython",
    "version": 3
   },
   "file_extension": ".py",
   "mimetype": "text/x-python",
   "name": "python",
   "nbconvert_exporter": "python",
   "pygments_lexer": "ipython3",
   "version": "3.8.8"
  }
 },
 "nbformat": 4,
 "nbformat_minor": 5
}
